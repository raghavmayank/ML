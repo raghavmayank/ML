{
 "cells": [
  {
   "cell_type": "code",
   "execution_count": 2,
   "id": "019eb26f-ac89-4e67-88c6-38299b6a4529",
   "metadata": {},
   "outputs": [],
   "source": [
    "import networkx as nx\n",
    "import pandas as pd\n",
    "\n",
    "def load_from_edgelist(filename):\n",
    "    fb = pd.read_csv('/Users/mayankraghav/Downloads/facebook_combined.txt', sep=' ', names=['src', 'dst'])\n",
    "    print('Number of nodes', len(G.nodes)) #nodes and edges are python set/list data structure\n",
    "    print('Number of edges', len(G.edges))\n",
    "    print('Average degree', sum(dict(G.degree).values()) / len(G.nodes))\n",
    "    return len(G.nodes), len(G.edges), (sum(dict(G.degree).values()) / len(G.nodes))\n",
    "\n",
    "def node_count(graph):\n",
    "    return\n",
    "\n",
    "def edge_count(graph):\n",
    "    return\n",
    "\n",
    "def average_degree(graph):\n",
    "    return\n",
    "\n",
    "def no_triangles(graph):\n",
    "    return\n",
    "\n",
    "def diameter(graph):\n",
    "    return\n",
    "\n",
    "def no_components(graph):\n",
    "    return\n",
    "\n",
    "def size_largest_component(graph):\n",
    "    return\n",
    "\n",
    "def clustering_coefficient(graph):\n",
    "    return\n",
    "\n",
    "def deg_distribution(graph):\n",
    "    return"
   ]
  },
  {
   "cell_type": "code",
   "execution_count": 3,
   "id": "a06c417c-d8bb-4b11-9227-add7d4a0026a",
   "metadata": {},
   "outputs": [],
   "source": [
    "import pandas as pd"
   ]
  },
  {
   "cell_type": "code",
   "execution_count": 4,
   "id": "56b1ab42-6aba-4ee2-9068-551b6bf47a6f",
   "metadata": {},
   "outputs": [],
   "source": [
    "fb = pd.read_csv('/Users/mayankraghav/Downloads/facebook_combined.txt', sep=' ', names=['src', 'dst'])"
   ]
  },
  {
   "cell_type": "code",
   "execution_count": 6,
   "id": "3337f5ef-7eb6-4ca6-abd7-5e0de02ddb0b",
   "metadata": {},
   "outputs": [],
   "source": [
    "g = nx.from_pandas_edgelist(fb, source='src', target='dst')"
   ]
  },
  {
   "cell_type": "code",
   "execution_count": 7,
   "id": "ba099cb7-0a6e-4134-ae14-7ad3e328c76a",
   "metadata": {},
   "outputs": [],
   "source": [
    "def info(G):\n",
    "    print('Number of nodes', len(G.nodes)) #nodes and edges are python set/list data structure\n",
    "    print('Number of edges', len(G.edges))\n",
    "    print('Average degree', sum(dict(G.degree).values()) / len(G.nodes))"
   ]
  },
  {
   "cell_type": "code",
   "execution_count": 8,
   "id": "bb267ff1-f389-4fad-a2cd-847249b4b7a8",
   "metadata": {},
   "outputs": [
    {
     "name": "stdout",
     "output_type": "stream",
     "text": [
      "Number of nodes 4039\n",
      "Number of edges 88234\n",
      "Average degree 43.69101262688784\n",
      "None\n"
     ]
    }
   ],
   "source": [
    "print(info(g))"
   ]
  },
  {
   "cell_type": "code",
   "execution_count": null,
   "id": "eda38760-bddc-41f0-9b14-cba53f7ae776",
   "metadata": {},
   "outputs": [],
   "source": []
  },
  {
   "cell_type": "code",
   "execution_count": null,
   "id": "734178ea-5a8c-4809-8b5d-f266737c988f",
   "metadata": {},
   "outputs": [],
   "source": []
  }
 ],
 "metadata": {
  "kernelspec": {
   "display_name": "Python 3 (ipykernel)",
   "language": "python",
   "name": "python3"
  },
  "language_info": {
   "codemirror_mode": {
    "name": "ipython",
    "version": 3
   },
   "file_extension": ".py",
   "mimetype": "text/x-python",
   "name": "python",
   "nbconvert_exporter": "python",
   "pygments_lexer": "ipython3",
   "version": "3.11.5"
  }
 },
 "nbformat": 4,
 "nbformat_minor": 5
}
