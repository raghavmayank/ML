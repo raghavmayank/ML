{
  "nbformat": 4,
  "nbformat_minor": 0,
  "metadata": {
    "colab": {
      "provenance": [],
      "authorship_tag": "ABX9TyOyTJediCLkHp6HYgwF45j+",
      "include_colab_link": true
    },
    "kernelspec": {
      "name": "python3",
      "display_name": "Python 3"
    },
    "language_info": {
      "name": "python"
    }
  },
  "cells": [
    {
      "cell_type": "markdown",
      "metadata": {
        "id": "view-in-github",
        "colab_type": "text"
      },
      "source": [
        "<a href=\"https://colab.research.google.com/github/raghavmayank/ML/blob/main/Assignment1.ipynb\" target=\"_parent\"><img src=\"https://colab.research.google.com/assets/colab-badge.svg\" alt=\"Open In Colab\"/></a>"
      ]
    },
    {
      "cell_type": "markdown",
      "source": [
        "Q1: Data Preprocessing.\n",
        "- 10 Marks\n",
        "A csv file has been provided to you at this link(https://drive.google.com/file/d/1r3VZs0B54gNvaar9QmTbaHsV75p7b23l/view?usp=sharing). The given dataset is related to cars and contains\n",
        "26 columns. In the given dataset, “Price” is the target variable (i.e., the output). The marks\n",
        "distribution according to the tasks are as follows:\n",
        "1. Assign a type to each of the following features (a) Model, (b) Type, (c) Max. Price and (d)\n",
        "Airbags from the following: ordinal/nominal/ratio/interval scale."
      ],
      "metadata": {
        "id": "7T7qCceKniHY"
      }
    },
    {
      "cell_type": "code",
      "execution_count": null,
      "metadata": {
        "id": "mq-GDEz6nV34"
      },
      "outputs": [],
      "source": []
    }
  ]
}